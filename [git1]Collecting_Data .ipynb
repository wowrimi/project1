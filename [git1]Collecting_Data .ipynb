{
 "cells": [
  {
   "cell_type": "markdown",
   "metadata": {
    "id": "ZxQ2mdWLGiqU"
   },
   "source": [
    "# 유기견 입양 여부 예측 "
   ]
  },
  {
   "cell_type": "markdown",
   "metadata": {
    "id": "d9rVfKDDGiqV"
   },
   "source": [
    "## 1. Data Collecting\n",
    "### - API 활용 "
   ]
  },
  {
   "cell_type": "code",
   "execution_count": null,
   "metadata": {
    "id": "zj2pBGxMGiqW"
   },
   "outputs": [],
   "source": [
    "# 개\n",
    "page_num = 1\n",
    "abandonment_data = {}\n",
    "\n",
    "while page_num <= 34144:\n",
    "\n",
    "    key = 'key 번호' \n",
    "    queryParams = 'bgnde=20170101&endde=20201013&upkind=417000'+'&pageNo='+str(page_num)+'&ServiceKey='+key\n",
    "    url = 'http://openapi.animal.go.kr/openapi/service/rest/abandonmentPublicSrvc/abandonmentPublic?'+queryParams\n",
    "\n",
    "    req = requests.get(url) \n",
    "    html = req.text\n",
    "    soup = BeautifulSoup(html,'html.parser')\n",
    "    \n",
    "    feature_list = ['desertionno', #유기번호\n",
    "                'popfile', #이미지 \n",
    "                'happendt', #접수일\n",
    "                'happenplace', #발견장소\n",
    "                'kindcd', #품종\n",
    "                'colorcd', #색상\n",
    "                'age', #나이\n",
    "                'weight', #몸무게 \n",
    "                'noticeno', #공고번호\n",
    "                'noticesdt', #공고시작일\n",
    "                'noticeedt', #공고종료일\n",
    "                'sexcd', #성별\n",
    "                'neuteryn',#중성화여부\n",
    "                'specialmark', #특징\n",
    "                'carenm', # 보호소 이름 \n",
    "                'orgnm', #관할기관\n",
    "                'processstate'] #입양/안락사 등 상태\n",
    "\n",
    "    \n",
    "    for feature in feature_list:\n",
    "        feature_data = soup.find_all(feature)\n",
    "        \n",
    "        if abandonment_data.get(feature) is None:\n",
    "            abandonment_data[feature] = [x.text for x in feature_data]\n",
    "        else: \n",
    "            abandonment_data[feature] = abandonment_data[feature] + [x.text for x in feature_data]\n",
    "            pass # if \n",
    "        pass # for \n",
    "    \n",
    "    pass # while  \n",
    "    \n",
    "    print(f'{page_num}완료')   \n",
    "    page_num += 1\n",
    "  \n",
    "df_dog = pd.DataFrame.from_dict(abandonment_data, orient='index')\n",
    "df_dog = df_dog.transpose()\n"
   ]
  },
  {
   "cell_type": "code",
   "execution_count": null,
   "metadata": {
    "id": "obItd0cjGiqZ"
   },
   "outputs": [],
   "source": [
    "# 고양이 \n",
    "page_num = 1\n",
    "abandonment_data = {}\n",
    "\n",
    "while page_num <= 4533:\n",
    "\n",
    "    key = 'key 번호' \n",
    "    queryParams = 'bgnde=20170101&endde=20201013&upkind=417000'+'&pageNo='+str(page_num)+'&ServiceKey='+key\n",
    "    url = 'http://openapi.animal.go.kr/openapi/service/rest/abandonmentPublicSrvc/abandonmentPublic?'+queryParams\n",
    "\n",
    "    req = requests.get(url) \n",
    "    html = req.text\n",
    "    soup = BeautifulSoup(html,'html.parser')\n",
    "    \n",
    "    feature_list = ['desertionno', #유기번호\n",
    "                'popfile', #이미지 \n",
    "                'happendt', #접수일\n",
    "                'happenplace', #발견장소\n",
    "                'kindcd', #품종\n",
    "                'colorcd', #색상\n",
    "                'age', #나이\n",
    "                'weight', #몸무게 \n",
    "                'noticeno', #공고번호\n",
    "                'noticesdt', #공고시작일\n",
    "                'noticeedt', #공고종료일\n",
    "                'sexcd', #성별\n",
    "                'neuteryn',#중성화여부\n",
    "                'specialmark', #특징\n",
    "                'carenm', # 보호소 이름 \n",
    "                'orgnm', #관할기관\n",
    "                'processstate'] #입양/안락사 등 상태\n",
    "\n",
    "    \n",
    "    for feature in feature_list:\n",
    "        feature_data = soup.find_all(feature)\n",
    "        \n",
    "        if abandonment_data.get(feature) is None:\n",
    "            abandonment_data[feature] = [x.text for x in feature_data]\n",
    "        else: \n",
    "            abandonment_data[feature] = abandonment_data[feature] + [x.text for x in feature_data]\n",
    "            pass # if \n",
    "        pass # for \n",
    "    \n",
    "    pass # while  \n",
    "    \n",
    "    print(f'{page_num}완료')   \n",
    "    page_num += 1\n",
    "  \n",
    "df_cat = pd.DataFrame.from_dict(abandonment_data, orient='index')\n",
    "df_cat = df_cat.transpose()\n"
   ]
  },
  {
   "cell_type": "code",
   "execution_count": null,
   "metadata": {
    "id": "jDqw9kKIGiqb"
   },
   "outputs": [],
   "source": [
    "# animalShelterSrvc - 보호소 위,경도 데이터 수집\n",
    "\n",
    "shelter_data = {}\n",
    "    \n",
    "for i in range(0,len(df_dog)):\n",
    "\n",
    "#     key = '3oGw9WhjddCEAiQyiVg3VSsrZlJC8D70H%2Ffb6DW7%2FeNjRkAUjItge2uRCjWpfdZCH3%2FwrguCcUBkztUIW1a%2FQA%3D%3D' \n",
    "    queryParams = 'care_nm='+str(df_dog.carenm[i])+'&ServiceKey='+key\n",
    "    url = 'http://openapi.animal.go.kr/openapi/service/rest/animalShelterSrvc/shelterInfo?'+queryParams\n",
    "\n",
    "    req = requests.get(url) \n",
    "    html = req.text\n",
    "    soup = BeautifulSoup(html,'html.parser')\n",
    "\n",
    "    feature_list = ['carenm', #동물보호센터명\n",
    "                    'lat', 'lng'] #위,경도\n",
    "\n",
    "    for feature in feature_list:\n",
    "        feature_data = soup.find_all(feature)\n",
    "        \n",
    "        if shelter_data.get(feature) is None:\n",
    "            shelter_data[feature] = [x.text for x in feature_data]\n",
    "        else: \n",
    "            shelter_data[feature] = shelter_data[feature] + [x.text for x in feature_data]\n",
    "            pass # if \n",
    "        \n",
    "        pass #for\n",
    "    \n",
    "    pass # for \n",
    "\n",
    "df_shelter = pd.DataFrame(shelter_data)\n"
   ]
  },
  {
   "cell_type": "code",
   "execution_count": null,
   "metadata": {
    "id": "fxHOa0cpGiqc"
   },
   "outputs": [],
   "source": [
    "# 테이블 조인 \n",
    "df_dog_final = pd.merge(df_dog, df_shelter, how='left', left_on='carenm', right_on='carenm')"
   ]
  },
  {
   "cell_type": "code",
   "execution_count": null,
   "metadata": {
    "id": "SrRY1cbgGiqe"
   },
   "outputs": [],
   "source": [
    "# df_test = pd.concat([df_2500_all, df_2851, df_3500, df_end]).drop_duplicates().reset_index(drop=True)\n",
    "df_dog_final.to_csv('df_animal', index=False)"
   ]
  }
 ],
 "metadata": {
  "colab": {
   "name": "1) Collecting Data.ipynb",
   "provenance": []
  },
  "kernelspec": {
   "display_name": "Python 3",
   "language": "python",
   "name": "python3"
  },
  "language_info": {
   "codemirror_mode": {
    "name": "ipython",
    "version": 3
   },
   "file_extension": ".py",
   "mimetype": "text/x-python",
   "name": "python",
   "nbconvert_exporter": "python",
   "pygments_lexer": "ipython3",
   "version": "3.8.2"
  }
 },
 "nbformat": 4,
 "nbformat_minor": 1
}
